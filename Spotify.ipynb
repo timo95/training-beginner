{
 "cells": [
  {
   "cell_type": "markdown",
   "metadata": {
    "pycharm": {
     "name": "#%% md\n"
    }
   },
   "source": [
    "# Training Beginner"
   ]
  },
  {
   "cell_type": "code",
   "execution_count": 2,
   "metadata": {
    "tags": []
   },
   "outputs": [],
   "source": [
    "import numpy as np\n",
    "import pandas as pd\n",
    "import matplotlib.pyplot as plt\n",
    "import seaborn as sn\n",
    "import sklearn.preprocessing as spp\n",
    "from sklearn.model_selection import train_test_split\n",
    "from sklearn.linear_model import LinearRegression\n",
    "from sklearn import metrics\n",
    "from sklearn.metrics import confusion_matrix\n",
    "from sklearn import svm\n",
    "from statsmodels.stats.outliers_influence import variance_inflation_factor"
   ]
  },
  {
   "cell_type": "markdown",
   "metadata": {},
   "source": [
    "<h2>Datenüberblick</h2>\n",
    "\n",
    "Tabelle einlesen"
   ]
  },
  {
   "cell_type": "code",
   "execution_count": 4,
   "metadata": {
    "collapsed": false,
    "jupyter": {
     "outputs_hidden": false
    },
    "pycharm": {
     "name": "#%%\n"
    }
   },
   "outputs": [],
   "source": [
    "data = pd.read_csv('spotify_track_data/spotify_track_data.csv')"
   ]
  },
  {
   "cell_type": "markdown",
   "metadata": {},
   "source": [
    "Ausgeben der ersten 5 Zeilen"
   ]
  },
  {
   "cell_type": "code",
   "execution_count": 5,
   "metadata": {
    "collapsed": false,
    "jupyter": {
     "outputs_hidden": false
    },
    "pycharm": {
     "name": "#%%\n"
    }
   },
   "outputs": [
    {
     "data": {
      "text/html": [
       "<div>\n",
       "<style scoped>\n",
       "    .dataframe tbody tr th:only-of-type {\n",
       "        vertical-align: middle;\n",
       "    }\n",
       "\n",
       "    .dataframe tbody tr th {\n",
       "        vertical-align: top;\n",
       "    }\n",
       "\n",
       "    .dataframe thead th {\n",
       "        text-align: right;\n",
       "    }\n",
       "</style>\n",
       "<table border=\"1\" class=\"dataframe\">\n",
       "  <thead>\n",
       "    <tr style=\"text-align: right;\">\n",
       "      <th></th>\n",
       "      <th>id</th>\n",
       "      <th>name</th>\n",
       "      <th>artist_ids</th>\n",
       "      <th>album_id</th>\n",
       "      <th>explicit</th>\n",
       "      <th>danceability</th>\n",
       "      <th>energy</th>\n",
       "      <th>key</th>\n",
       "      <th>loudness</th>\n",
       "      <th>mode</th>\n",
       "      <th>speechiness</th>\n",
       "      <th>acousticness</th>\n",
       "      <th>instrumentalness</th>\n",
       "      <th>liveness</th>\n",
       "      <th>valence</th>\n",
       "      <th>tempo</th>\n",
       "      <th>duration_ms</th>\n",
       "      <th>time_signature</th>\n",
       "      <th>genres</th>\n",
       "    </tr>\n",
       "  </thead>\n",
       "  <tbody>\n",
       "    <tr>\n",
       "      <th>0</th>\n",
       "      <td>4aWmUDTfIPGksMNLV2rQP2</td>\n",
       "      <td>Despacito (Featuring Daddy Yankee)</td>\n",
       "      <td>4V8Sr092TqfHkfAA5fXXqG,4VMYDCV2IEDYJArk749S6m</td>\n",
       "      <td>1HV4uCbhCicfl07dm2WvU0</td>\n",
       "      <td>False</td>\n",
       "      <td>0.660</td>\n",
       "      <td>0.786</td>\n",
       "      <td>2</td>\n",
       "      <td>-4.757</td>\n",
       "      <td>1</td>\n",
       "      <td>0.1700</td>\n",
       "      <td>0.209</td>\n",
       "      <td>0.00000</td>\n",
       "      <td>0.1120</td>\n",
       "      <td>0.846</td>\n",
       "      <td>177.833</td>\n",
       "      <td>228200</td>\n",
       "      <td>4</td>\n",
       "      <td>trap latino,latin pop,reggaeton,latin,latin hi...</td>\n",
       "    </tr>\n",
       "    <tr>\n",
       "      <th>1</th>\n",
       "      <td>3umS4y3uQDkqekNjVpiRUs</td>\n",
       "      <td>El Amante</td>\n",
       "      <td>1SupJlEpv7RS2tPNRaHViT</td>\n",
       "      <td>2dBgWXp41imu2zBNv9oFxZ</td>\n",
       "      <td>False</td>\n",
       "      <td>0.683</td>\n",
       "      <td>0.691</td>\n",
       "      <td>8</td>\n",
       "      <td>-5.535</td>\n",
       "      <td>1</td>\n",
       "      <td>0.0432</td>\n",
       "      <td>0.243</td>\n",
       "      <td>0.00000</td>\n",
       "      <td>0.1400</td>\n",
       "      <td>0.732</td>\n",
       "      <td>179.910</td>\n",
       "      <td>219507</td>\n",
       "      <td>4</td>\n",
       "      <td>latin hip hop,trap latino,latin,reggaeton</td>\n",
       "    </tr>\n",
       "    <tr>\n",
       "      <th>2</th>\n",
       "      <td>3AEZUABDXNtecAOSC1qTfo</td>\n",
       "      <td>Reggaetón Lento (Bailemos)</td>\n",
       "      <td>0eecdvMrqBftK0M1VKhaF4</td>\n",
       "      <td>0YLrAWUbY0nyM7PFtqnYld</td>\n",
       "      <td>False</td>\n",
       "      <td>0.761</td>\n",
       "      <td>0.838</td>\n",
       "      <td>4</td>\n",
       "      <td>-3.073</td>\n",
       "      <td>0</td>\n",
       "      <td>0.0502</td>\n",
       "      <td>0.400</td>\n",
       "      <td>0.00000</td>\n",
       "      <td>0.1760</td>\n",
       "      <td>0.710</td>\n",
       "      <td>93.974</td>\n",
       "      <td>222560</td>\n",
       "      <td>4</td>\n",
       "      <td>latin pop,boy band,latin,reggaeton</td>\n",
       "    </tr>\n",
       "    <tr>\n",
       "      <th>3</th>\n",
       "      <td>7qiZfU4dY1lWllzX7mPBI3</td>\n",
       "      <td>Shape of You</td>\n",
       "      <td>6eUKZXaKkcviH0Ku9w2n3V</td>\n",
       "      <td>3T4tUhGYeRNVUGevb0wThu</td>\n",
       "      <td>False</td>\n",
       "      <td>0.825</td>\n",
       "      <td>0.652</td>\n",
       "      <td>1</td>\n",
       "      <td>-3.183</td>\n",
       "      <td>0</td>\n",
       "      <td>0.0802</td>\n",
       "      <td>0.581</td>\n",
       "      <td>0.00000</td>\n",
       "      <td>0.0931</td>\n",
       "      <td>0.931</td>\n",
       "      <td>95.977</td>\n",
       "      <td>233713</td>\n",
       "      <td>4</td>\n",
       "      <td>uk pop,pop</td>\n",
       "    </tr>\n",
       "    <tr>\n",
       "      <th>4</th>\n",
       "      <td>6mICuAdrwEjh6Y6lroV2Kg</td>\n",
       "      <td>Chantaje (feat. Maluma)</td>\n",
       "      <td>0EmeFodog0BfCgMzAIvKQp,1r4hJ1h58CWwUQe3MxPuau</td>\n",
       "      <td>6bUxh58rYTL67FS8dyTKMN</td>\n",
       "      <td>False</td>\n",
       "      <td>0.852</td>\n",
       "      <td>0.773</td>\n",
       "      <td>8</td>\n",
       "      <td>-2.921</td>\n",
       "      <td>0</td>\n",
       "      <td>0.0776</td>\n",
       "      <td>0.187</td>\n",
       "      <td>0.00003</td>\n",
       "      <td>0.1590</td>\n",
       "      <td>0.907</td>\n",
       "      <td>102.034</td>\n",
       "      <td>195840</td>\n",
       "      <td>4</td>\n",
       "      <td>trap latino,latin pop,colombian pop,reggaeton,...</td>\n",
       "    </tr>\n",
       "  </tbody>\n",
       "</table>\n",
       "</div>"
      ],
      "text/plain": [
       "                       id                                name  \\\n",
       "0  4aWmUDTfIPGksMNLV2rQP2  Despacito (Featuring Daddy Yankee)   \n",
       "1  3umS4y3uQDkqekNjVpiRUs                           El Amante   \n",
       "2  3AEZUABDXNtecAOSC1qTfo          Reggaetón Lento (Bailemos)   \n",
       "3  7qiZfU4dY1lWllzX7mPBI3                        Shape of You   \n",
       "4  6mICuAdrwEjh6Y6lroV2Kg             Chantaje (feat. Maluma)   \n",
       "\n",
       "                                      artist_ids                album_id  \\\n",
       "0  4V8Sr092TqfHkfAA5fXXqG,4VMYDCV2IEDYJArk749S6m  1HV4uCbhCicfl07dm2WvU0   \n",
       "1                         1SupJlEpv7RS2tPNRaHViT  2dBgWXp41imu2zBNv9oFxZ   \n",
       "2                         0eecdvMrqBftK0M1VKhaF4  0YLrAWUbY0nyM7PFtqnYld   \n",
       "3                         6eUKZXaKkcviH0Ku9w2n3V  3T4tUhGYeRNVUGevb0wThu   \n",
       "4  0EmeFodog0BfCgMzAIvKQp,1r4hJ1h58CWwUQe3MxPuau  6bUxh58rYTL67FS8dyTKMN   \n",
       "\n",
       "   explicit  danceability  energy  key  loudness  mode  speechiness  \\\n",
       "0     False         0.660   0.786    2    -4.757     1       0.1700   \n",
       "1     False         0.683   0.691    8    -5.535     1       0.0432   \n",
       "2     False         0.761   0.838    4    -3.073     0       0.0502   \n",
       "3     False         0.825   0.652    1    -3.183     0       0.0802   \n",
       "4     False         0.852   0.773    8    -2.921     0       0.0776   \n",
       "\n",
       "   acousticness  instrumentalness  liveness  valence    tempo  duration_ms  \\\n",
       "0         0.209           0.00000    0.1120    0.846  177.833       228200   \n",
       "1         0.243           0.00000    0.1400    0.732  179.910       219507   \n",
       "2         0.400           0.00000    0.1760    0.710   93.974       222560   \n",
       "3         0.581           0.00000    0.0931    0.931   95.977       233713   \n",
       "4         0.187           0.00003    0.1590    0.907  102.034       195840   \n",
       "\n",
       "   time_signature                                             genres  \n",
       "0               4  trap latino,latin pop,reggaeton,latin,latin hi...  \n",
       "1               4          latin hip hop,trap latino,latin,reggaeton  \n",
       "2               4                 latin pop,boy band,latin,reggaeton  \n",
       "3               4                                         uk pop,pop  \n",
       "4               4  trap latino,latin pop,colombian pop,reggaeton,...  "
      ]
     },
     "execution_count": 5,
     "metadata": {},
     "output_type": "execute_result"
    }
   ],
   "source": [
    "data.head()"
   ]
  },
  {
   "cell_type": "markdown",
   "metadata": {
    "pycharm": {
     "name": "#%% md\n"
    }
   },
   "source": [
    " Was bedeuten die Spalten? Die Erklärung findet sich in der beiliegenden Textdatei."
   ]
  },
  {
   "cell_type": "code",
   "execution_count": 6,
   "metadata": {
    "collapsed": false,
    "jupyter": {
     "outputs_hidden": false
    },
    "pycharm": {
     "name": "#%%\n"
    }
   },
   "outputs": [
    {
     "name": "stdout",
     "output_type": "stream",
     "text": [
      "\n",
      "\n",
      "- name: The name for the track\n",
      "\n",
      "\n",
      "\n",
      "- artist_ids: The spotify ids for all track artists\n",
      "\n",
      "\n",
      "\n",
      "- album_id: The spotify id for the track album \n",
      "\n",
      "\n",
      "\n",
      "- explicit: Whether the song lyrics contain content of violence, vulgar expressions or the like\n",
      "\n",
      "\n",
      "\n",
      "- danceability: Danceability describes how suitable a track is for dancing based on a combination of musical elements including tempo, rhythm stability, beat strength, and overall regularity. A value of 0.0 is least danceable and 1.0 is most danceable\n",
      "\n",
      "\n",
      "\n",
      "- energy: Energy is a measure from 0.0 to 1.0 and represents a perceptual measure of intensity and activity. Typically, energetic tracks feel fast, loud, and noisy. For example, death metal has high energy, while a Bach prelude scores low on the scale. Perceptual features contributing to this attribute include dynamic range, perceived loudness, timbre, onset rate, and general entropy\n",
      "\n",
      "\n",
      "\n",
      "- key: The key the track is in. Integers map to pitches using standard Pitch Class notation. E.g. 0 = C, 1 = C♯/D♭, 2 = D, and so on up to 11. If no key was detected, the value is -1\n",
      "\n",
      "\n",
      "\n",
      "- loudness: The overall loudness of a track in decibels (dB). Loudness values are averaged across the entire track and are useful for comparing relative loudness of tracks. Loudness is the quality of a sound that is the primary psychological correlate of physical strength (amplitude). Values typically range between -60 and 0 db\n",
      "\n",
      "\n",
      "\n",
      "- mode: Mode indicates the modality (major or minor) of a track, the type of scale from which its melodic content is derived. Major is represented by 1 and minor is 0\n",
      "\n",
      "\n",
      "\n",
      "- speechiness: Speechiness detects the presence of spoken words in a track. The more exclusively speech-like the recording (e.g. talk show, audio book, poetry), the closer to 1.0 the attribute value. Values above 0.66 describe tracks that are probably made entirely of spoken words. Values between 0.33 and 0.66 describe tracks that may contain both music and speech, either in sections or layered, including such cases as rap music. Values below 0.33 most likely represent music and other non-speech-like tracks\n",
      "\n",
      "\n",
      "\n",
      "- acousticness: A confidence measure from 0.0 to 1.0 of whether the track is acoustic. 1.0 represents high confidence the track is acoustic\n",
      "\n",
      "\n",
      "\n",
      "- instrumentalness: Predicts whether a track contains no vocals. \"Ooh\" and \"aah\" sounds are treated as instrumental in this context. Rap or spoken word tracks are clearly \"vocal\". The closer the instrumentalness value is to 1.0, the greater likelihood the track contains no vocal content. Values above 0.5 are intended to represent instrumental tracks, but confidence is higher as the value approaches 1.0\n",
      "\n",
      "\n",
      "\n",
      "- liveness: Detects the presence of an audience in the recording. Higher liveness values represent an increased probability that the track was performed live. A value above 0.8 provides strong likelihood that the track is live\n",
      "\n",
      "\n",
      "\n",
      "- valence: A measure from 0.0 to 1.0 describing the musical positiveness conveyed by a track. Tracks with high valence sound more positive (e.g. happy, cheerful, euphoric), while tracks with low valence sound more negative (e.g. sad, depressed, angry)\n",
      "\n",
      "\n",
      "\n",
      "- tempo: The overall estimated tempo of a track in beats per minute (BPM). In musical terminology, tempo is the speed or pace of a given piece and derives directly from the average beat duration\n",
      "\n",
      "\n",
      "\n",
      "- duration_ms: The duration of the track in milliseconds\n",
      "\n",
      "\n",
      "\n",
      "- time_signature: An estimated time signature. The time signature (meter) is a notational convention to specify how many beats are in each bar (or measure). The time signature ranges from 3 to 7 indicating time signatures of \"3/4\", to \"7/4\"\n",
      "\n",
      "\n",
      "\n",
      "- genres: Collected genres for all artists involved in the track. Spotify does not offer the possibility to read out the genre of a single track or album. Therefore, the genres of all participating artists were collected\n",
      "\n",
      "\n"
     ]
    }
   ],
   "source": [
    "with open('spotify_track_data/spotify_track_data-desc.txt') as f:\n",
    "    line = f.readline()\n",
    "    while line:\n",
    "        line = f.readline()\n",
    "        print(line)\n",
    "f.close()"
   ]
  },
  {
   "cell_type": "markdown",
   "metadata": {},
   "source": [
    "Welche Spalten enthalten welche Datentypen?"
   ]
  },
  {
   "cell_type": "code",
   "execution_count": 7,
   "metadata": {
    "collapsed": false,
    "jupyter": {
     "outputs_hidden": false
    },
    "pycharm": {
     "name": "#%%\n"
    }
   },
   "outputs": [
    {
     "data": {
      "text/plain": [
       "id                   object\n",
       "name                 object\n",
       "artist_ids           object\n",
       "album_id             object\n",
       "explicit               bool\n",
       "danceability        float64\n",
       "energy              float64\n",
       "key                   int64\n",
       "loudness            float64\n",
       "mode                  int64\n",
       "speechiness         float64\n",
       "acousticness        float64\n",
       "instrumentalness    float64\n",
       "liveness            float64\n",
       "valence             float64\n",
       "tempo               float64\n",
       "duration_ms           int64\n",
       "time_signature        int64\n",
       "genres               object\n",
       "dtype: object"
      ]
     },
     "execution_count": 7,
     "metadata": {},
     "output_type": "execute_result"
    }
   ],
   "source": [
    "data.dtypes"
   ]
  },
  {
   "cell_type": "markdown",
   "metadata": {},
   "source": [
    "Ausgabe der deskriptiven Statistik"
   ]
  },
  {
   "cell_type": "code",
   "execution_count": 8,
   "metadata": {
    "collapsed": false,
    "jupyter": {
     "outputs_hidden": false
    },
    "pycharm": {
     "name": "#%%\n"
    }
   },
   "outputs": [
    {
     "data": {
      "text/html": [
       "<div>\n",
       "<style scoped>\n",
       "    .dataframe tbody tr th:only-of-type {\n",
       "        vertical-align: middle;\n",
       "    }\n",
       "\n",
       "    .dataframe tbody tr th {\n",
       "        vertical-align: top;\n",
       "    }\n",
       "\n",
       "    .dataframe thead th {\n",
       "        text-align: right;\n",
       "    }\n",
       "</style>\n",
       "<table border=\"1\" class=\"dataframe\">\n",
       "  <thead>\n",
       "    <tr style=\"text-align: right;\">\n",
       "      <th></th>\n",
       "      <th>danceability</th>\n",
       "      <th>energy</th>\n",
       "      <th>key</th>\n",
       "      <th>loudness</th>\n",
       "      <th>mode</th>\n",
       "      <th>speechiness</th>\n",
       "      <th>acousticness</th>\n",
       "      <th>instrumentalness</th>\n",
       "      <th>liveness</th>\n",
       "      <th>valence</th>\n",
       "      <th>tempo</th>\n",
       "      <th>duration_ms</th>\n",
       "      <th>time_signature</th>\n",
       "    </tr>\n",
       "  </thead>\n",
       "  <tbody>\n",
       "    <tr>\n",
       "      <th>count</th>\n",
       "      <td>185303.000000</td>\n",
       "      <td>185303.000000</td>\n",
       "      <td>185303.000000</td>\n",
       "      <td>185303.000000</td>\n",
       "      <td>185303.000000</td>\n",
       "      <td>185303.000000</td>\n",
       "      <td>185303.000000</td>\n",
       "      <td>185303.000000</td>\n",
       "      <td>185303.000000</td>\n",
       "      <td>185303.000000</td>\n",
       "      <td>185303.000000</td>\n",
       "      <td>1.853030e+05</td>\n",
       "      <td>185303.000000</td>\n",
       "    </tr>\n",
       "    <tr>\n",
       "      <th>mean</th>\n",
       "      <td>0.649409</td>\n",
       "      <td>0.637932</td>\n",
       "      <td>5.325877</td>\n",
       "      <td>-7.231251</td>\n",
       "      <td>0.562705</td>\n",
       "      <td>0.119460</td>\n",
       "      <td>0.277318</td>\n",
       "      <td>0.041772</td>\n",
       "      <td>0.179247</td>\n",
       "      <td>0.499350</td>\n",
       "      <td>121.407307</td>\n",
       "      <td>2.153527e+05</td>\n",
       "      <td>3.951712</td>\n",
       "    </tr>\n",
       "    <tr>\n",
       "      <th>std</th>\n",
       "      <td>0.154278</td>\n",
       "      <td>0.191071</td>\n",
       "      <td>3.604597</td>\n",
       "      <td>3.179676</td>\n",
       "      <td>0.496054</td>\n",
       "      <td>0.119398</td>\n",
       "      <td>0.269895</td>\n",
       "      <td>0.161197</td>\n",
       "      <td>0.143343</td>\n",
       "      <td>0.230798</td>\n",
       "      <td>28.649327</td>\n",
       "      <td>7.839370e+04</td>\n",
       "      <td>0.325559</td>\n",
       "    </tr>\n",
       "    <tr>\n",
       "      <th>min</th>\n",
       "      <td>0.000000</td>\n",
       "      <td>0.000000</td>\n",
       "      <td>0.000000</td>\n",
       "      <td>-60.000000</td>\n",
       "      <td>0.000000</td>\n",
       "      <td>0.000000</td>\n",
       "      <td>0.000000</td>\n",
       "      <td>0.000000</td>\n",
       "      <td>0.000000</td>\n",
       "      <td>0.000000</td>\n",
       "      <td>0.000000</td>\n",
       "      <td>1.000000e+03</td>\n",
       "      <td>0.000000</td>\n",
       "    </tr>\n",
       "    <tr>\n",
       "      <th>25%</th>\n",
       "      <td>0.549000</td>\n",
       "      <td>0.519000</td>\n",
       "      <td>2.000000</td>\n",
       "      <td>-8.621000</td>\n",
       "      <td>0.000000</td>\n",
       "      <td>0.039200</td>\n",
       "      <td>0.050400</td>\n",
       "      <td>0.000000</td>\n",
       "      <td>0.095800</td>\n",
       "      <td>0.320000</td>\n",
       "      <td>98.203500</td>\n",
       "      <td>1.788930e+05</td>\n",
       "      <td>4.000000</td>\n",
       "    </tr>\n",
       "    <tr>\n",
       "      <th>50%</th>\n",
       "      <td>0.666000</td>\n",
       "      <td>0.656000</td>\n",
       "      <td>6.000000</td>\n",
       "      <td>-6.705000</td>\n",
       "      <td>1.000000</td>\n",
       "      <td>0.064400</td>\n",
       "      <td>0.184000</td>\n",
       "      <td>0.000001</td>\n",
       "      <td>0.122000</td>\n",
       "      <td>0.493000</td>\n",
       "      <td>120.032000</td>\n",
       "      <td>2.063510e+05</td>\n",
       "      <td>4.000000</td>\n",
       "    </tr>\n",
       "    <tr>\n",
       "      <th>75%</th>\n",
       "      <td>0.764000</td>\n",
       "      <td>0.781000</td>\n",
       "      <td>8.000000</td>\n",
       "      <td>-5.192000</td>\n",
       "      <td>1.000000</td>\n",
       "      <td>0.161000</td>\n",
       "      <td>0.445000</td>\n",
       "      <td>0.000251</td>\n",
       "      <td>0.215000</td>\n",
       "      <td>0.678000</td>\n",
       "      <td>139.994000</td>\n",
       "      <td>2.391305e+05</td>\n",
       "      <td>4.000000</td>\n",
       "    </tr>\n",
       "    <tr>\n",
       "      <th>max</th>\n",
       "      <td>0.988000</td>\n",
       "      <td>1.000000</td>\n",
       "      <td>11.000000</td>\n",
       "      <td>2.670000</td>\n",
       "      <td>1.000000</td>\n",
       "      <td>0.965000</td>\n",
       "      <td>0.996000</td>\n",
       "      <td>0.993000</td>\n",
       "      <td>1.000000</td>\n",
       "      <td>0.998000</td>\n",
       "      <td>234.135000</td>\n",
       "      <td>5.455680e+06</td>\n",
       "      <td>5.000000</td>\n",
       "    </tr>\n",
       "  </tbody>\n",
       "</table>\n",
       "</div>"
      ],
      "text/plain": [
       "        danceability         energy            key       loudness  \\\n",
       "count  185303.000000  185303.000000  185303.000000  185303.000000   \n",
       "mean        0.649409       0.637932       5.325877      -7.231251   \n",
       "std         0.154278       0.191071       3.604597       3.179676   \n",
       "min         0.000000       0.000000       0.000000     -60.000000   \n",
       "25%         0.549000       0.519000       2.000000      -8.621000   \n",
       "50%         0.666000       0.656000       6.000000      -6.705000   \n",
       "75%         0.764000       0.781000       8.000000      -5.192000   \n",
       "max         0.988000       1.000000      11.000000       2.670000   \n",
       "\n",
       "                mode    speechiness   acousticness  instrumentalness  \\\n",
       "count  185303.000000  185303.000000  185303.000000     185303.000000   \n",
       "mean        0.562705       0.119460       0.277318          0.041772   \n",
       "std         0.496054       0.119398       0.269895          0.161197   \n",
       "min         0.000000       0.000000       0.000000          0.000000   \n",
       "25%         0.000000       0.039200       0.050400          0.000000   \n",
       "50%         1.000000       0.064400       0.184000          0.000001   \n",
       "75%         1.000000       0.161000       0.445000          0.000251   \n",
       "max         1.000000       0.965000       0.996000          0.993000   \n",
       "\n",
       "            liveness        valence          tempo   duration_ms  \\\n",
       "count  185303.000000  185303.000000  185303.000000  1.853030e+05   \n",
       "mean        0.179247       0.499350     121.407307  2.153527e+05   \n",
       "std         0.143343       0.230798      28.649327  7.839370e+04   \n",
       "min         0.000000       0.000000       0.000000  1.000000e+03   \n",
       "25%         0.095800       0.320000      98.203500  1.788930e+05   \n",
       "50%         0.122000       0.493000     120.032000  2.063510e+05   \n",
       "75%         0.215000       0.678000     139.994000  2.391305e+05   \n",
       "max         1.000000       0.998000     234.135000  5.455680e+06   \n",
       "\n",
       "       time_signature  \n",
       "count   185303.000000  \n",
       "mean         3.951712  \n",
       "std          0.325559  \n",
       "min          0.000000  \n",
       "25%          4.000000  \n",
       "50%          4.000000  \n",
       "75%          4.000000  \n",
       "max          5.000000  "
      ]
     },
     "execution_count": 8,
     "metadata": {},
     "output_type": "execute_result"
    }
   ],
   "source": [
    "data.describe()"
   ]
  },
  {
   "cell_type": "markdown",
   "metadata": {},
   "source": [
    "Gibt es NaNs?"
   ]
  },
  {
   "cell_type": "code",
   "execution_count": 9,
   "metadata": {
    "collapsed": false,
    "jupyter": {
     "outputs_hidden": false
    },
    "pycharm": {
     "name": "#%%\n"
    }
   },
   "outputs": [
    {
     "data": {
      "text/html": [
       "<div>\n",
       "<style scoped>\n",
       "    .dataframe tbody tr th:only-of-type {\n",
       "        vertical-align: middle;\n",
       "    }\n",
       "\n",
       "    .dataframe tbody tr th {\n",
       "        vertical-align: top;\n",
       "    }\n",
       "\n",
       "    .dataframe thead th {\n",
       "        text-align: right;\n",
       "    }\n",
       "</style>\n",
       "<table border=\"1\" class=\"dataframe\">\n",
       "  <thead>\n",
       "    <tr style=\"text-align: right;\">\n",
       "      <th></th>\n",
       "      <th>id</th>\n",
       "      <th>name</th>\n",
       "      <th>artist_ids</th>\n",
       "      <th>album_id</th>\n",
       "      <th>explicit</th>\n",
       "      <th>danceability</th>\n",
       "      <th>energy</th>\n",
       "      <th>key</th>\n",
       "      <th>loudness</th>\n",
       "      <th>mode</th>\n",
       "      <th>speechiness</th>\n",
       "      <th>acousticness</th>\n",
       "      <th>instrumentalness</th>\n",
       "      <th>liveness</th>\n",
       "      <th>valence</th>\n",
       "      <th>tempo</th>\n",
       "      <th>duration_ms</th>\n",
       "      <th>time_signature</th>\n",
       "      <th>genres</th>\n",
       "    </tr>\n",
       "  </thead>\n",
       "  <tbody>\n",
       "    <tr>\n",
       "      <th>58017</th>\n",
       "      <td>4cP6KmNvTFkLHZo6fVJq0c</td>\n",
       "      <td>NaN</td>\n",
       "      <td>4L9VSeE7K3BTBndqEL9A6q</td>\n",
       "      <td>24EcptlU09a6FOJeQEnmZm</td>\n",
       "      <td>False</td>\n",
       "      <td>0.684</td>\n",
       "      <td>0.78</td>\n",
       "      <td>0</td>\n",
       "      <td>-4.352</td>\n",
       "      <td>1</td>\n",
       "      <td>0.0351</td>\n",
       "      <td>0.00234</td>\n",
       "      <td>0.0</td>\n",
       "      <td>0.11</td>\n",
       "      <td>0.762</td>\n",
       "      <td>127.95</td>\n",
       "      <td>258733</td>\n",
       "      <td>4</td>\n",
       "      <td>j-pop</td>\n",
       "    </tr>\n",
       "  </tbody>\n",
       "</table>\n",
       "</div>"
      ],
      "text/plain": [
       "                           id name              artist_ids  \\\n",
       "58017  4cP6KmNvTFkLHZo6fVJq0c  NaN  4L9VSeE7K3BTBndqEL9A6q   \n",
       "\n",
       "                     album_id  explicit  danceability  energy  key  loudness  \\\n",
       "58017  24EcptlU09a6FOJeQEnmZm     False         0.684    0.78    0    -4.352   \n",
       "\n",
       "       mode  speechiness  acousticness  instrumentalness  liveness  valence  \\\n",
       "58017     1       0.0351       0.00234               0.0      0.11    0.762   \n",
       "\n",
       "        tempo  duration_ms  time_signature genres  \n",
       "58017  127.95       258733               4  j-pop  "
      ]
     },
     "execution_count": 9,
     "metadata": {},
     "output_type": "execute_result"
    }
   ],
   "source": [
    "data[data.isna().any(axis=1)]\n"
   ]
  },
  {
   "cell_type": "markdown",
   "metadata": {
    "pycharm": {
     "name": "#%% md\n"
    }
   },
   "source": [
    "<h2>Vorverarbeitung</h2>\n",
    "\n",
    "Auswahl von geeigneten Spalten (Integer, Float, Boolean), siehe Zelle 4 Datentypen"
   ]
  },
  {
   "cell_type": "code",
   "execution_count": 10,
   "metadata": {
    "collapsed": false,
    "jupyter": {
     "outputs_hidden": false
    },
    "pycharm": {
     "name": "#%%\n"
    }
   },
   "outputs": [],
   "source": [
    "tab = data.iloc[:,4:18]"
   ]
  },
  {
   "cell_type": "markdown",
   "metadata": {},
   "source": [
    "Wie stark hängen die einzelnen Faktoren voneinader ab? Als Maß wird der  Pearson-Korrelationskoeffizient verwendet.\n",
    "Wenn der Wert 1 beträgt, besteht ein vollständig positver Zusammenhang, bei -1 ein vollständig negativer und bei 0 gar kein Zusammenhang.\n",
    "Mit Hilfe der Korrelationsmatrix können die Zusammenhänge dargestellt und visualisiert werden. Die Matrix ist symmetrisch."
   ]
  },
  {
   "cell_type": "code",
   "execution_count": 11,
   "metadata": {
    "collapsed": false,
    "jupyter": {
     "outputs_hidden": false
    },
    "pycharm": {
     "name": "#%%\n"
    }
   },
   "outputs": [
    {
     "data": {
      "image/png": "[encoded data removed]",
      "text/plain": [
       "<Figure size 1440x1440 with 2 Axes>"
      ]
     },
     "metadata": {
      "needs_background": "light"
     },
     "output_type": "display_data"
    }
   ],
   "source": [
    "#plot correlation matrix\n",
    "fig, ax = plt.subplots(figsize=(20, 20))\n",
    "ax = sn.heatmap(tab.corr(), vmin=-1, vmax=1, center=0,\n",
    "cmap=sn.diverging_palette(20, 220, n=200), square=True, annot=True)\n",
    "#plt.savefig('Korrelationmatrix')\n",
    "plt.show()"
   ]
  },
  {
   "cell_type": "markdown",
   "metadata": {},
   "source": [
    "<h2> Festlegen des Zielprameters: 'Energy'</h2>\n",
    "Als nächstes wollen wir die Werte für den Faktor 'Energy' mit Hilfe der anderen Variablen vorhersagen. "
   ]
  },
  {
   "cell_type": "code",
   "execution_count": 12,
   "metadata": {
    "collapsed": false,
    "jupyter": {
     "outputs_hidden": false
    },
    "pycharm": {
     "name": "#%%\n"
    }
   },
   "outputs": [],
   "source": [
    "target = tab['energy']\n",
    "#tab = tab.drop(['energy'], axis = 1)"
   ]
  },
  {
   "cell_type": "markdown",
   "metadata": {
    "pycharm": {
     "name": "#%% md\n"
    }
   },
   "source": [
    "<h3>Multikollinearität</h3>\n",
    "Bei starker Korrelation zwischen den Vorhersagevraiablen ist keine Regression möglich, da nicht mehr\n",
    "zugeordnet werden kann, welche Variable was vorhersagt.\n",
    "\n",
    "Das multiple Bestimmtheitsmaß R² gibt an wie groß der Anteil\n",
    "der durch die Variablen erklärte Varianz an der Gesamtvarianz ist. Es kann nur Werte zwischen 0 und 1 annehmen.\n",
    "\n",
    "Maß für Multikollinearität: Varianzinflationsfaktor (VIF) $= \\frac{1}{1-R²}$\n",
    "\n",
    "Faustregel: Nutze nur Variablen mit VIF < 10."
   ]
  },
  {
   "cell_type": "code",
   "execution_count": 13,
   "metadata": {
    "collapsed": false,
    "jupyter": {
     "outputs_hidden": false
    },
    "pycharm": {
     "name": "#%%\n"
    }
   },
   "outputs": [
    {
     "name": "stdout",
     "output_type": "stream",
     "text": [
      "             feature        VIF\n",
      "0       danceability  23.760892\n",
      "1                key   3.227903\n",
      "2           loudness   8.563213\n",
      "3               mode   2.345850\n",
      "4        speechiness   2.193602\n",
      "5       acousticness   2.692953\n",
      "6   instrumentalness   1.208962\n",
      "7           liveness   2.603739\n",
      "8            valence   7.098765\n",
      "9              tempo  17.193253\n",
      "10       duration_ms   8.585821\n",
      "11    time_signature  53.575961\n"
     ]
    }
   ],
   "source": [
    "X = tab.drop(['explicit', 'energy'], axis = 1)\n",
    "vif_data = pd.DataFrame()\n",
    "vif_data[\"feature\"] = X.columns\n",
    "\n",
    "# calculating VIF for each feature\n",
    "vif_data[\"VIF\"] = [variance_inflation_factor(X.values, i)\n",
    "                          for i in range(len(X.columns))]\n",
    "print(vif_data)"
   ]
  },
  {
   "cell_type": "markdown",
   "metadata": {
    "pycharm": {
     "name": "#%% md\n"
    }
   },
   "source": [
    "Entfernen von Variablen mit VIF>10"
   ]
  },
  {
   "cell_type": "code",
   "execution_count": 14,
   "metadata": {
    "collapsed": false,
    "jupyter": {
     "outputs_hidden": false
    },
    "pycharm": {
     "name": "#%%\n"
    }
   },
   "outputs": [
    {
     "name": "stdout",
     "output_type": "stream",
     "text": [
      "            feature       VIF\n",
      "0               key  2.993212\n",
      "1          loudness  7.072246\n",
      "2              mode  2.221294\n",
      "3       speechiness  2.019460\n",
      "4      acousticness  2.652936\n",
      "5  instrumentalness  1.201029\n",
      "6          liveness  2.455128\n",
      "7           valence  4.355255\n",
      "8       duration_ms  6.208444\n"
     ]
    }
   ],
   "source": [
    "X = X.drop(['danceability','tempo', 'time_signature'], axis = 1)\n",
    "vif_data = pd.DataFrame()\n",
    "vif_data[\"feature\"] = X.columns\n",
    "\n",
    "# calculating VIF for each feature\n",
    "vif_data[\"VIF\"] = [variance_inflation_factor(X.values, i)\n",
    "                          for i in range(len(X.columns))]\n",
    "print(vif_data)\n"
   ]
  },
  {
   "cell_type": "markdown",
   "metadata": {},
   "source": [
    "Skalierung der Daten"
   ]
  },
  {
   "cell_type": "code",
   "execution_count": 15,
   "metadata": {
    "collapsed": false,
    "jupyter": {
     "outputs_hidden": false
    },
    "pycharm": {
     "name": "#%%\n"
    }
   },
   "outputs": [],
   "source": [
    "min_max_scaler = spp.MinMaxScaler()\n",
    "scaled_data = min_max_scaler.fit_transform(X)"
   ]
  },
  {
   "cell_type": "markdown",
   "metadata": {},
   "source": [
    "Aufteilung in Trainings- und Testdaten"
   ]
  },
  {
   "cell_type": "code",
   "execution_count": 16,
   "metadata": {
    "collapsed": false,
    "jupyter": {
     "outputs_hidden": false
    },
    "pycharm": {
     "name": "#%%\n"
    }
   },
   "outputs": [],
   "source": [
    "#split data\n",
    "X_train, X_test, y_train, y_test = train_test_split(scaled_data, target, test_size=0.3,\n",
    "                                                                                random_state=109)\n"
   ]
  },
  {
   "cell_type": "markdown",
   "metadata": {},
   "source": [
    "<h2>Lineare Regression</h2>\n",
    "\n",
    "Als Score dient wieder das multiple Bestimmtheitsmaß, nur dass es hier für den Zielparameter berechnet wird."
   ]
  },
  {
   "cell_type": "code",
   "execution_count": 17,
   "metadata": {
    "collapsed": false,
    "jupyter": {
     "outputs_hidden": false
    },
    "pycharm": {
     "name": "#%%\n"
    }
   },
   "outputs": [
    {
     "name": "stdout",
     "output_type": "stream",
     "text": [
      "Trainingsscore:  0.6846284318805496\n",
      "Testscore:  0.6810576105780666\n"
     ]
    }
   ],
   "source": [
    "linreg = LinearRegression()\n",
    "linreg.fit(X_train, y_train)\n",
    "y_pred = linreg.predict(X_test)\n",
    "print('Trainingsscore: ', linreg.score(X_train, y_train))\n",
    "print('Testscore: ', linreg.score(X_test, y_test))\n",
    "\n",
    "# score, R2 erklären"
   ]
  },
  {
   "cell_type": "markdown",
   "metadata": {},
   "source": [
    "<h3>Feature Importance</h3>\n",
    "\n",
    "Welche Variablen sind für die Vorhersage wichtig und welche eher nicht? Dazu können wir uns die Koeffizienten der Variablen\n",
    "in der Regressionsgleichung ausgeben lassen."
   ]
  },
  {
   "cell_type": "code",
   "execution_count": 18,
   "metadata": {
    "collapsed": false,
    "jupyter": {
     "outputs_hidden": false
    },
    "pycharm": {
     "name": "#%%\n"
    }
   },
   "outputs": [],
   "source": [
    "def plotFeatureImportance(importances, title, ylab, keys):\n",
    "    feat_importances = pd.Series(importances, index=keys)\n",
    "    fig, ax = plt.subplots(figsize=(20, 20))\n",
    "    feat_importances.plot.bar(ax=ax)\n",
    "    ax.set_title(title)\n",
    "    ax.set_ylabel(ylab)\n",
    "    fig.tight_layout()\n",
    "    # plt.savefig(title)\n",
    "    plt.show()"
   ]
  },
  {
   "cell_type": "code",
   "execution_count": 19,
   "metadata": {
    "collapsed": false,
    "jupyter": {
     "outputs_hidden": false
    },
    "pycharm": {
     "name": "#%%print('Trainingsscore: ', linreg.score(X_train, y_train))\n"
    }
   },
   "outputs": [
    {
     "name": "stdout",
     "output_type": "stream",
     "text": [
      "Trainingsscore:  0.6846284318805496\n",
      "Testscore:  0.6810576105780666\n"
     ]
    },
    {
     "data": {
      "image/png": "[encoded data removed]",
      "text/plain": [
       "<Figure size 1440x1440 with 1 Axes>"
      ]
     },
     "metadata": {
      "needs_background": "light"
     },
     "output_type": "display_data"
    }
   ],
   "source": [
    "print('Trainingsscore: ', linreg.score(X_train, y_train))\n",
    "print('Testscore: ', linreg.score(X_test, y_test))\n",
    "\n",
    "plotFeatureImportance(linreg.coef_, \"Feature importances using LR Coefficients\", \"Score\", X.keys())"
   ]
  },
  {
   "cell_type": "markdown",
   "metadata": {},
   "source": [
    "<h3>Lineare Regression mit ausgewählten Parametern</h3>\n",
    "\n",
    "Anhand des Plots können wir jetzt die vielversprechendsten Variablen auswählen und uns anschauen, wie gut die Vorhersage\n",
    "mit nur diesen funktioniert.\n",
    "\n",
    "Regression mit 3 Variablen:"
   ]
  },
  {
   "cell_type": "code",
   "execution_count": 20,
   "metadata": {
    "collapsed": false,
    "jupyter": {
     "outputs_hidden": false
    },
    "pycharm": {
     "name": "#%%\n"
    }
   },
   "outputs": [
    {
     "name": "stdout",
     "output_type": "stream",
     "text": [
      "Trainingsscore:  0.6354452604094858\n",
      "Testscore:  0.6309492609710676\n"
     ]
    }
   ],
   "source": [
    "tb = tab[['loudness','acousticness','duration_ms']]\n",
    "min_max_scaler = spp.MinMaxScaler()\n",
    "scaled_data3 = min_max_scaler.fit_transform(tb)\n",
    "\n",
    "#split data\n",
    "X_train, X_test, y_train, y_test = train_test_split(scaled_data3, target, test_size=0.3,\n",
    "                                                                                random_state=109)\n",
    "linreg = LinearRegression()\n",
    "linreg.fit(X_train, y_train)\n",
    "y_pred = linreg.predict(X_test)\n",
    "print('Trainingsscore: ', linreg.score(X_train, y_train))\n",
    "print('Testscore: ', linreg.score(X_test, y_test))"
   ]
  },
  {
   "cell_type": "markdown",
   "metadata": {},
   "source": [
    "Lineare Regression mit einer Variable:"
   ]
  },
  {
   "cell_type": "code",
   "execution_count": 21,
   "metadata": {
    "collapsed": false,
    "jupyter": {
     "outputs_hidden": false
    },
    "pycharm": {
     "name": "#%%\n"
    }
   },
   "outputs": [
    {
     "name": "stdout",
     "output_type": "stream",
     "text": [
      "Trainingsscore:  0.5450319115076807\n",
      "Testscore:  0.5401809058512379\n"
     ]
    }
   ],
   "source": [
    "tb = tab[['loudness']]\n",
    "min_max_scaler = spp.MinMaxScaler()\n",
    "scaled_data3 = min_max_scaler.fit_transform(tb)\n",
    "\n",
    "#split data\n",
    "X_train, X_test, y_train, y_test = train_test_split(scaled_data3, target, test_size=0.3,\n",
    "                                                                                random_state=109)\n",
    "linreg = LinearRegression()\n",
    "linreg.fit(X_train, y_train)\n",
    "y_pred = linreg.predict(X_test)\n",
    "print('Trainingsscore: ', linreg.score(X_train, y_train))\n",
    "print('Testscore: ', linreg.score(X_test, y_test))"
   ]
  },
  {
   "cell_type": "markdown",
   "metadata": {
    "pycharm": {
     "name": "#%% md\n"
    }
   },
   "source": [
    "<h2>Regression mit Support Vector Machine</h2>"
   ]
  },
  {
   "cell_type": "code",
   "execution_count": 22,
   "metadata": {
    "collapsed": false,
    "jupyter": {
     "outputs_hidden": false
    },
    "pycharm": {
     "name": "#%%\n"
    }
   },
   "outputs": [
    {
     "name": "stdout",
     "output_type": "stream",
     "text": [
      "Trainingsscore:  0.6844910295066711\n",
      "Testscore:  0.6809597294406622\n"
     ]
    }
   ],
   "source": [
    "X_train, X_test, y_train, y_test = train_test_split(scaled_data, target, test_size=0.3,\n",
    "                                                                                random_state=109)\n",
    "\n",
    "linSVM = svm.SVR(kernel ='linear')\n",
    "linSVM.fit(X_train, y_train)\n",
    "y_pred = linSVM.predict(X_test)\n",
    "\n",
    "print('Trainingsscore: ', linSVM.score(X_train, y_train))\n",
    "print('Testscore: ', linSVM.score(X_test, y_test))"
   ]
  },
  {
   "cell_type": "code",
   "execution_count": 23,
   "metadata": {
    "collapsed": false,
    "jupyter": {
     "outputs_hidden": false
    },
    "pycharm": {
     "name": "#%%\n"
    }
   },
   "outputs": [
    {
     "name": "stdout",
     "output_type": "stream",
     "text": [
      "Trainingsscore:  0.7265533468451448\n",
      "Testscore:  0.7223789227228161\n"
     ]
    }
   ],
   "source": [
    "rbfSVM = svm.SVR(kernel ='rbf')\n",
    "rbfSVM.fit(X_train, y_train)\n",
    "y_pred = rbfSVM.predict(X_test)\n",
    "\n",
    "print('Trainingsscore: ', rbfSVM.score(X_train, y_train))\n",
    "print('Testscore: ', rbfSVM.score(X_test, y_test))"
   ]
  },
  {
   "cell_type": "markdown",
   "metadata": {},
   "source": [
    "<h2> Songs mit der höchsten und niedrigsten vorhergesagten Energie </h2>"
   ]
  },
  {
   "cell_type": "code",
   "execution_count": 67,
   "metadata": {},
   "outputs": [
    {
     "name": "stdout",
     "output_type": "stream",
     "text": [
      "Song with lowest energy score: More Cotton Candy - https://open.spotify.com/track/7decb4iSKm3iure780SZik\n",
      "Song with highest energy score: Lava Run - https://open.spotify.com/track/3PZ76aUE3HRUCrZ0MJgp3h\n"
     ]
    }
   ],
   "source": [
    "energy_max = y_test.keys()[np.argmax(y_pred)]\n",
    "energy_min = y_test.keys()[np.argmin(y_pred)]\n",
    "print(f\"Lowest Energy: {data['name'][energy_min]} - https://open.spotify.com/track/{data['id'][energy_min]}\")\n",
    "print(f\"Highest Energy: {data['name'][energy_max]} - https://open.spotify.com/track/{data['id'][energy_max]}\")"
   ]
  }
 ],
 "metadata": {
  "kernelspec": {
   "display_name": "Python 3 (ipykernel)",
   "language": "python",
   "name": "python3"
  },
  "language_info": {
   "codemirror_mode": {
    "name": "ipython",
    "version": 3
   },
   "file_extension": ".py",
   "mimetype": "text/x-python",
   "name": "python",
   "nbconvert_exporter": "python",
   "pygments_lexer": "ipython3",
   "version": "3.10.1"
  }
 },
 "nbformat": 4,
 "nbformat_minor": 4
}
